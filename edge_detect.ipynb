{
 "cells": [
  {
   "cell_type": "code",
   "execution_count": 5,
   "metadata": {},
   "outputs": [
    {
     "name": "stdout",
     "output_type": "stream",
     "text": [
      "\u001b[33mDEPRECATION: Configuring installation scheme with distutils config files is deprecated and will no longer work in the near future. If you are using a Homebrew or Linuxbrew Python, please see discussion at https://github.com/Homebrew/homebrew-core/issues/76621\u001b[0m\u001b[33m\n",
      "\u001b[0mRequirement already satisfied: autolab_core in /usr/local/lib/python3.9/site-packages (1.1.1)\n",
      "Requirement already satisfied: scikit-learn in /usr/local/lib/python3.9/site-packages (from autolab_core) (1.0)\n",
      "Requirement already satisfied: scipy in /usr/local/lib/python3.9/site-packages (from autolab_core) (1.7.1)\n",
      "Requirement already satisfied: scikit-image in /usr/local/lib/python3.9/site-packages (from autolab_core) (0.19.3)\n",
      "Requirement already satisfied: multiprocess in /usr/local/lib/python3.9/site-packages (from autolab_core) (0.70.13)\n",
      "Requirement already satisfied: joblib in /usr/local/lib/python3.9/site-packages (from autolab_core) (1.0.1)\n",
      "Requirement already satisfied: matplotlib in /usr/local/lib/python3.9/site-packages (from autolab_core) (3.5.3)\n",
      "Requirement already satisfied: opencv-python in /usr/local/lib/python3.9/site-packages (from autolab_core) (4.6.0.66)\n",
      "Requirement already satisfied: ruamel.yaml in /usr/local/lib/python3.9/site-packages (from autolab_core) (0.17.21)\n",
      "Requirement already satisfied: setproctitle in /usr/local/lib/python3.9/site-packages (from autolab_core) (1.3.2)\n",
      "Requirement already satisfied: Pillow in /usr/local/lib/python3.9/site-packages (from autolab_core) (9.2.0)\n",
      "Requirement already satisfied: colorlog in /usr/local/lib/python3.9/site-packages (from autolab_core) (6.7.0)\n",
      "Requirement already satisfied: numpy in /usr/local/lib/python3.9/site-packages (from autolab_core) (1.20.0)\n",
      "Requirement already satisfied: pyparsing>=2.2.1 in /usr/local/lib/python3.9/site-packages (from matplotlib->autolab_core) (2.4.7)\n",
      "Requirement already satisfied: fonttools>=4.22.0 in /usr/local/lib/python3.9/site-packages (from matplotlib->autolab_core) (4.30.0)\n",
      "Requirement already satisfied: python-dateutil>=2.7 in /usr/local/lib/python3.9/site-packages (from matplotlib->autolab_core) (2.8.1)\n",
      "Requirement already satisfied: packaging>=20.0 in /usr/local/lib/python3.9/site-packages (from matplotlib->autolab_core) (20.9)\n",
      "Requirement already satisfied: kiwisolver>=1.0.1 in /usr/local/lib/python3.9/site-packages (from matplotlib->autolab_core) (1.3.1)\n",
      "Requirement already satisfied: cycler>=0.10 in /usr/local/lib/python3.9/site-packages (from matplotlib->autolab_core) (0.10.0)\n",
      "Requirement already satisfied: dill>=0.3.5.1 in /usr/local/lib/python3.9/site-packages (from multiprocess->autolab_core) (0.3.6)\n",
      "Requirement already satisfied: ruamel.yaml.clib>=0.2.6 in /usr/local/lib/python3.9/site-packages (from ruamel.yaml->autolab_core) (0.2.7)\n",
      "Requirement already satisfied: PyWavelets>=1.1.1 in /usr/local/lib/python3.9/site-packages (from scikit-image->autolab_core) (1.4.1)\n",
      "Requirement already satisfied: tifffile>=2019.7.26 in /usr/local/lib/python3.9/site-packages (from scikit-image->autolab_core) (2022.10.10)\n",
      "Requirement already satisfied: networkx>=2.2 in /usr/local/lib/python3.9/site-packages (from scikit-image->autolab_core) (2.7.1)\n",
      "Requirement already satisfied: imageio>=2.4.1 in /usr/local/lib/python3.9/site-packages (from scikit-image->autolab_core) (2.21.2)\n",
      "Requirement already satisfied: threadpoolctl>=2.0.0 in /usr/local/lib/python3.9/site-packages (from scikit-learn->autolab_core) (2.2.0)\n",
      "Requirement already satisfied: six in /Users/rsha256/Library/Python/3.9/lib/python/site-packages (from cycler>=0.10->matplotlib->autolab_core) (1.15.0)\n",
      "\u001b[33mDEPRECATION: Configuring installation scheme with distutils config files is deprecated and will no longer work in the near future. If you are using a Homebrew or Linuxbrew Python, please see discussion at https://github.com/Homebrew/homebrew-core/issues/76621\u001b[0m\u001b[33m\n",
      "\u001b[0m\n",
      "\u001b[1m[\u001b[0m\u001b[34;49mnotice\u001b[0m\u001b[1;39;49m]\u001b[0m\u001b[39;49m A new release of pip available: \u001b[0m\u001b[31;49m22.3\u001b[0m\u001b[39;49m -> \u001b[0m\u001b[32;49m22.3.1\u001b[0m\n",
      "\u001b[1m[\u001b[0m\u001b[34;49mnotice\u001b[0m\u001b[1;39;49m]\u001b[0m\u001b[39;49m To update, run: \u001b[0m\u001b[32;49mpython3.9 -m pip install --upgrade pip\u001b[0m\n"
     ]
    }
   ],
   "source": [
    "!pip install autolab_core"
   ]
  },
  {
   "cell_type": "code",
   "execution_count": 7,
   "metadata": {},
   "outputs": [
    {
     "name": "stdout",
     "output_type": "stream",
     "text": [
      "Collecting autolab_core\n",
      "  Using cached autolab_core-1.1.1-py3-none-any.whl (116 kB)\n",
      "Collecting scikit-learn\n",
      "  Downloading scikit_learn-1.1.3-cp310-cp310-macosx_10_9_x86_64.whl (8.7 MB)\n",
      "\u001b[2K     \u001b[90m━━━━━━━━━━━━━━━━━━━━━━━━━━━━━━━━━━━━━━━━\u001b[0m \u001b[32m8.7/8.7 MB\u001b[0m \u001b[31m14.3 MB/s\u001b[0m eta \u001b[36m0:00:00\u001b[0m00:01\u001b[0m00:01\u001b[0m\n",
      "\u001b[?25hRequirement already satisfied: matplotlib in /usr/local/lib/python3.10/site-packages (from autolab_core) (3.5.3)\n",
      "Requirement already satisfied: numpy in /usr/local/lib/python3.10/site-packages (from autolab_core) (1.23.2)\n",
      "Collecting ruamel.yaml\n",
      "  Using cached ruamel.yaml-0.17.21-py3-none-any.whl (109 kB)\n",
      "Collecting multiprocess\n",
      "  Downloading multiprocess-0.70.14-py310-none-any.whl (134 kB)\n",
      "\u001b[2K     \u001b[90m━━━━━━━━━━━━━━━━━━━━━━━━━━━━━━━━━━━━━━━\u001b[0m \u001b[32m134.3/134.3 kB\u001b[0m \u001b[31m3.4 MB/s\u001b[0m eta \u001b[36m0:00:00\u001b[0m\n",
      "\u001b[?25hRequirement already satisfied: Pillow in /usr/local/lib/python3.10/site-packages (from autolab_core) (9.2.0)\n",
      "Requirement already satisfied: scipy in /usr/local/lib/python3.10/site-packages (from autolab_core) (1.9.1)\n",
      "Collecting opencv-python\n",
      "  Using cached opencv_python-4.6.0.66-cp36-abi3-macosx_10_15_x86_64.whl (46.4 MB)\n",
      "Requirement already satisfied: scikit-image in /usr/local/lib/python3.10/site-packages (from autolab_core) (0.19.3)\n",
      "Collecting joblib\n",
      "  Using cached joblib-1.2.0-py3-none-any.whl (297 kB)\n",
      "Collecting setproctitle\n",
      "  Downloading setproctitle-1.3.2-cp310-cp310-macosx_10_9_x86_64.whl (11 kB)\n",
      "Collecting colorlog\n",
      "  Using cached colorlog-6.7.0-py2.py3-none-any.whl (11 kB)\n",
      "Requirement already satisfied: python-dateutil>=2.7 in /Users/rsha256/Library/Python/3.10/lib/python/site-packages (from matplotlib->autolab_core) (2.8.2)\n",
      "Requirement already satisfied: fonttools>=4.22.0 in /usr/local/lib/python3.10/site-packages (from matplotlib->autolab_core) (4.37.1)\n",
      "Requirement already satisfied: kiwisolver>=1.0.1 in /usr/local/lib/python3.10/site-packages (from matplotlib->autolab_core) (1.4.4)\n",
      "Requirement already satisfied: cycler>=0.10 in /usr/local/lib/python3.10/site-packages (from matplotlib->autolab_core) (0.11.0)\n",
      "Requirement already satisfied: packaging>=20.0 in /Users/rsha256/Library/Python/3.10/lib/python/site-packages (from matplotlib->autolab_core) (21.3)\n",
      "Requirement already satisfied: pyparsing>=2.2.1 in /Users/rsha256/Library/Python/3.10/lib/python/site-packages (from matplotlib->autolab_core) (3.0.9)\n",
      "Collecting dill>=0.3.6\n",
      "  Using cached dill-0.3.6-py3-none-any.whl (110 kB)\n",
      "Collecting ruamel.yaml.clib>=0.2.6\n",
      "  Downloading ruamel.yaml.clib-0.2.7-cp310-cp310-macosx_10_9_universal2.whl (141 kB)\n",
      "\u001b[2K     \u001b[90m━━━━━━━━━━━━━━━━━━━━━━━━━━━━━━━━━━━━━━━\u001b[0m \u001b[32m141.3/141.3 kB\u001b[0m \u001b[31m3.1 MB/s\u001b[0m eta \u001b[36m0:00:00\u001b[0ma \u001b[36m0:00:01\u001b[0m\n",
      "\u001b[?25hRequirement already satisfied: networkx>=2.2 in /usr/local/lib/python3.10/site-packages (from scikit-image->autolab_core) (2.8.6)\n",
      "Requirement already satisfied: PyWavelets>=1.1.1 in /usr/local/lib/python3.10/site-packages (from scikit-image->autolab_core) (1.3.0)\n",
      "Requirement already satisfied: imageio>=2.4.1 in /usr/local/lib/python3.10/site-packages (from scikit-image->autolab_core) (2.21.2)\n",
      "Requirement already satisfied: tifffile>=2019.7.26 in /usr/local/lib/python3.10/site-packages (from scikit-image->autolab_core) (2022.8.12)\n",
      "Collecting threadpoolctl>=2.0.0\n",
      "  Using cached threadpoolctl-3.1.0-py3-none-any.whl (14 kB)\n",
      "Requirement already satisfied: six>=1.5 in /Users/rsha256/Library/Python/3.10/lib/python/site-packages (from python-dateutil>=2.7->matplotlib->autolab_core) (1.16.0)\n",
      "Installing collected packages: threadpoolctl, setproctitle, ruamel.yaml.clib, opencv-python, joblib, dill, colorlog, scikit-learn, ruamel.yaml, multiprocess, autolab_core\n",
      "  Attempting uninstall: dill\n",
      "    Found existing installation: dill 0.3.5.1\n",
      "    Uninstalling dill-0.3.5.1:\n",
      "      Successfully uninstalled dill-0.3.5.1\n",
      "Successfully installed autolab_core-1.1.1 colorlog-6.7.0 dill-0.3.6 joblib-1.2.0 multiprocess-0.70.14 opencv-python-4.6.0.66 ruamel.yaml-0.17.21 ruamel.yaml.clib-0.2.7 scikit-learn-1.1.3 setproctitle-1.3.2 threadpoolctl-3.1.0\n",
      "\n",
      "\u001b[1m[\u001b[0m\u001b[34;49mnotice\u001b[0m\u001b[1;39;49m]\u001b[0m\u001b[39;49m A new release of pip available: \u001b[0m\u001b[31;49m22.2.2\u001b[0m\u001b[39;49m -> \u001b[0m\u001b[32;49m22.3.1\u001b[0m\n",
      "\u001b[1m[\u001b[0m\u001b[34;49mnotice\u001b[0m\u001b[1;39;49m]\u001b[0m\u001b[39;49m To update, run: \u001b[0m\u001b[32;49mpython3.10 -m pip install --upgrade pip\u001b[0m\n",
      "Note: you may need to restart the kernel to use updated packages.\n"
     ]
    }
   ],
   "source": [
    "%pip install autolab_core"
   ]
  },
  {
   "cell_type": "code",
   "execution_count": 11,
   "metadata": {},
   "outputs": [
    {
     "name": "stdout",
     "output_type": "stream",
     "text": [
      "\u001b[31mERROR: Could not find a version that satisfies the requirement yumirws (from versions: none)\u001b[0m\u001b[31m\n",
      "\u001b[0m\u001b[31mERROR: No matching distribution found for yumirws\u001b[0m\u001b[31m\n",
      "\u001b[0m\n",
      "\u001b[1m[\u001b[0m\u001b[34;49mnotice\u001b[0m\u001b[1;39;49m]\u001b[0m\u001b[39;49m A new release of pip available: \u001b[0m\u001b[31;49m22.2.2\u001b[0m\u001b[39;49m -> \u001b[0m\u001b[32;49m22.3.1\u001b[0m\n",
      "\u001b[1m[\u001b[0m\u001b[34;49mnotice\u001b[0m\u001b[1;39;49m]\u001b[0m\u001b[39;49m To update, run: \u001b[0m\u001b[32;49mpython3.10 -m pip install --upgrade pip\u001b[0m\n",
      "Note: you may need to restart the kernel to use updated packages.\n"
     ]
    }
   ],
   "source": [
    "%pip install yumirws"
   ]
  },
  {
   "cell_type": "code",
   "execution_count": 2,
   "metadata": {},
   "outputs": [
    {
     "name": "stderr",
     "output_type": "stream",
     "text": [
      "WARNING:root:Failed to import geometry msgs in rigid_transformations.py.\n",
      "WARNING:root:Failed to import ros dependencies in rigid_transforms.py\n",
      "WARNING:root:autolab_core not installed as catkin package, RigidTransform ros methods will be unavailable\n"
     ]
    }
   ],
   "source": [
    "from autolab_core import RigidTransform,RgbdImage,DepthImage,ColorImage, CameraIntrinsics\n",
    "import numpy as np\n",
    "import matplotlib.pyplot as plt\n",
    "#from ../../cable_untangling.tcps import *\n",
    "#from ../../cable_untangling.grasp import Grasp,GraspSelector\n",
    "import time\n",
    "import os\n",
    "import sys\n",
    "# cable = os.path.dirname(os.path.abspath(__file__)) + \"/../../cable_untangling\"\n",
    "# sys.path.insert(0,cable)\n",
    "# from interface_rws import Interface \n",
    "# from tcps import *\n",
    "# from grasp import Grasp, GraspSelector\n",
    "from PIL import Image, ImageFilter\n",
    "import cv2"
   ]
  },
  {
   "cell_type": "code",
   "execution_count": 13,
   "metadata": {},
   "outputs": [
    {
     "data": {
      "text/plain": [
       "<matplotlib.image.AxesImage at 0x1486329e0>"
      ]
     },
     "execution_count": 13,
     "metadata": {},
     "output_type": "execute_result"
    },
    {
     "data": {
      "image/png": "[encoded data removed]",
      "text/plain": [
       "<Figure size 640x480 with 1 Axes>"
      ]
     },
     "metadata": {},
     "output_type": "display_data"
    }
   ],
   "source": [
    "p = image_path = \"edge_detection.png\"\n",
    "img_np = plt.imread(image_path)\n",
    "img = Image.open(p)\n",
    "plt.imshow(img)"
   ]
  },
  {
   "cell_type": "code",
   "execution_count": 152,
   "metadata": {},
   "outputs": [
    {
     "data": {
      "image/png": "[encoded data removed]",
      "text/plain": [
       "<PIL.Image.Image image mode=RGB size=1032x772>"
      ]
     },
     "execution_count": 152,
     "metadata": {},
     "output_type": "execute_result"
    }
   ],
   "source": [
    "img_skeleton = img.filter(ImageFilter.Kernel((3, 3), (-1, -1, -1, -1, 8,\n",
    "                                          -1, -1, -1, -1), 1, 0))\n",
    "img_skeleton"
   ]
  },
  {
   "cell_type": "code",
   "execution_count": 14,
   "metadata": {},
   "outputs": [],
   "source": [
    "# convert to CV_8UC1\n",
    "img_skeleton = np.array(img)\n",
    "img_skeleton = cv2.cvtColor(img_skeleton, cv2.COLOR_RGB2GRAY)\n",
    "# img_skeleton = cv2.threshold(img_skeleton, 0, 255, cv2.THRESH_BINARY)[1]"
   ]
  },
  {
   "cell_type": "code",
   "execution_count": 16,
   "metadata": {},
   "outputs": [
    {
     "data": {
      "text/plain": [
       "array([[[290., 183.]],\n",
       "\n",
       "       [[439., 250.]]], dtype=float32)"
      ]
     },
     "execution_count": 16,
     "metadata": {},
     "output_type": "execute_result"
    }
   ],
   "source": [
    "features = cv2.goodFeaturesToTrack(img_skeleton, 2, 0.01, 10)\n",
    "features"
   ]
  },
  {
   "cell_type": "code",
   "execution_count": null,
   "metadata": {},
   "outputs": [
    {
     "data": {
      "text/plain": [
       "<matplotlib.collections.PathCollection at 0x151e2d4b0>"
      ]
     },
     "execution_count": 123,
     "metadata": {},
     "output_type": "execute_result"
    },
    {
     "data": {
      "image/png": "[encoded data removed]",
      "text/plain": [
       "<Figure size 640x480 with 1 Axes>"
      ]
     },
     "metadata": {},
     "output_type": "display_data"
    }
   ],
   "source": [
    "# plot scatter of features\n",
    "plt.scatter(features[:, 0], features[:, 1], c='r', s=5)"
   ]
  },
  {
   "cell_type": "code",
   "execution_count": 17,
   "metadata": {},
   "outputs": [
    {
     "name": "stdout",
     "output_type": "stream",
     "text": [
      "290 183\n",
      "439 250\n"
     ]
    },
    {
     "data": {
      "text/plain": [
       "<matplotlib.image.AxesImage at 0x13a748d30>"
      ]
     },
     "execution_count": 17,
     "metadata": {},
     "output_type": "execute_result"
    },
    {
     "data": {
      "image/png": "[encoded data removed]",
      "text/plain": [
       "<Figure size 640x480 with 1 Axes>"
      ]
     },
     "metadata": {},
     "output_type": "display_data"
    }
   ],
   "source": [
    "# img = cv2.imread(p, 0)\n",
    "# cv2.goodFeaturesToTrack(img, maxCorners=5, qualityLevel=.01, minDistance=10, useHarrisDetector=True)\n",
    "for (x, y) in features[:, 0].astype(\"int0\"):\n",
    "    cv2.circle(img_skeleton, (x, y), 27, 127, -1)\n",
    "    print(x, y)\n",
    "\n",
    "plt.imshow(img_skeleton)"
   ]
  },
  {
   "cell_type": "code",
   "execution_count": 156,
   "metadata": {},
   "outputs": [
    {
     "ename": "IndentationError",
     "evalue": "expected an indented block after function definition on line 1 (638050038.py, line 8)",
     "output_type": "error",
     "traceback": [
      "\u001b[0;36m  Input \u001b[0;32mIn [156]\u001b[0;36m\u001b[0m\n\u001b[0;31m    edges = []\u001b[0m\n\u001b[0m    ^\u001b[0m\n\u001b[0;31mIndentationError\u001b[0m\u001b[0;31m:\u001b[0m expected an indented block after function definition on line 1\n"
     ]
    },
    {
     "ename": "",
     "evalue": "",
     "output_type": "error",
     "traceback": [
      "\u001b[1;31mThe Kernel crashed while executing code in the the current cell or a previous cell. Please review the code in the cell(s) to identify a possible cause of the failure. Click <a href='https://aka.ms/vscodeJupyterKernelCrash'>here</a> for more info. View Jupyter <a href='command:jupyter.viewOutput'>log</a> for further details."
     ]
    }
   ],
   "source": [
    "    def find_endpoints(img):\n",
    "    # find the end of the rope in the image\n",
    "    # img is a 3d numpy array\n",
    "    # where the third dim is (r,g,b)\n",
    "    # return the endpoints of the rope\n",
    "    # as a tuple of (x,y) coordinates\n",
    "    # in the image\n",
    "    edges = []\n",
    "    for i in range(1, img.shape[0]-1):\n",
    "        for j in range(1, img.shape[1]-1):\n",
    "            if img[i,j,0] == 0:\n",
    "                if img[i-1,j,0] == 255 or img[i+1,j,0] == 255 or img[i,j-1,0] == 255 or img[i,j+1,0] == 255:\n",
    "                    edges.append((i,j))\n",
    "    return edges\n",
    "\n",
    "find_endpoints(img)"
   ]
  },
  {
   "cell_type": "code",
   "execution_count": 21,
   "metadata": {},
   "outputs": [
    {
     "data": {
      "text/plain": [
       "(0.0,\n",
       " array([[255, 255, 255, ..., 255, 255, 255],\n",
       "        [255, 255, 255, ..., 255, 255, 255],\n",
       "        [255, 255, 255, ..., 255, 255, 255],\n",
       "        ...,\n",
       "        [255, 255, 255, ..., 255, 255, 255],\n",
       "        [255, 255, 255, ..., 255, 255, 255],\n",
       "        [255, 255, 255, ..., 255, 255, 255]], dtype=uint8))"
      ]
     },
     "execution_count": 21,
     "metadata": {},
     "output_type": "execute_result"
    }
   ],
   "source": [
    "img"
   ]
  },
  {
   "cell_type": "code",
   "execution_count": 7,
   "metadata": {},
   "outputs": [],
   "source": [
    "import cv2\n",
    "\n",
    "skeleton = img[:,:,0]\n",
    "\n",
    "# Threshold the image so that white pixels get a value of 0 and\n",
    "# black pixels a value of 10:\n",
    "_, binaryImage = cv2.threshold(skeleton, 128, 10, cv2.THRESH_BINARY)\n",
    "\n",
    "# Set the end-points kernel:\n",
    "h = np.array([[1, 1, 1],\n",
    "              [1, 10, 1],\n",
    "              [1, 1, 1]])\n",
    "\n",
    "# Convolve the image with the kernel:\n",
    "imgFiltered = cv2.filter2D(binaryImage, -1, h)\n",
    "\n",
    "# Extract only the end-points pixels, those with\n",
    "# an intensity value of 110:\n",
    "endPointsMask = np.where(imgFiltered == 110, 255, 0)\n",
    "\n",
    "# The above operation converted the image to 32-bit float,\n",
    "# convert back to 8-bit uint\n",
    "endPointsMask = endPointsMask.astype(np.uint8)"
   ]
  },
  {
   "cell_type": "code",
   "execution_count": 8,
   "metadata": {},
   "outputs": [],
   "source": [
    "# RGB copy of this:\n",
    "rgbMask = endPointsMask.copy()\n",
    "rgbMask = cv2.cvtColor(rgbMask, cv2.COLOR_GRAY2BGR)\n",
    "\n",
    "# Create a copy of the mask for points processing:\n",
    "groupsMask = endPointsMask.copy()\n",
    "\n",
    "# Set kernel (structuring element) size:\n",
    "kernelSize = 3\n",
    "# Set operation iterations:\n",
    "opIterations = 3\n",
    "# Get the structuring element:\n",
    "maxKernel = cv2.getStructuringElement(cv2.MORPH_RECT, (kernelSize, kernelSize))\n",
    "# Perform dilate:\n",
    "groupsMask = cv2.morphologyEx(groupsMask, cv2.MORPH_DILATE, maxKernel, None, None, opIterations, cv2.BORDER_REFLECT101)"
   ]
  },
  {
   "cell_type": "code",
   "execution_count": 9,
   "metadata": {},
   "outputs": [
    {
     "data": {
      "text/plain": [
       "array([[0, 0, 0, ..., 0, 0, 0],\n",
       "       [0, 0, 0, ..., 0, 0, 0],\n",
       "       [0, 0, 0, ..., 0, 0, 0],\n",
       "       ...,\n",
       "       [0, 0, 0, ..., 0, 0, 0],\n",
       "       [0, 0, 0, ..., 0, 0, 0],\n",
       "       [0, 0, 0, ..., 0, 0, 0]], dtype=uint8)"
      ]
     },
     "execution_count": 9,
     "metadata": {},
     "output_type": "execute_result"
    }
   ],
   "source": [
    "groupsMask"
   ]
  },
  {
   "cell_type": "code",
   "execution_count": 11,
   "metadata": {},
   "outputs": [
    {
     "data": {
      "text/plain": [
       "array([[515.5, 385.5]])"
      ]
     },
     "execution_count": 11,
     "metadata": {},
     "output_type": "execute_result"
    }
   ],
   "source": [
    "# Set the centroids Dictionary:\n",
    "centroidsDictionary = {}\n",
    "\n",
    "# Get centroids on the end points mask:\n",
    "totalComponents, output, stats, centroids = cv2.connectedComponentsWithStats(endPointsMask, connectivity=8)\n",
    "\n",
    "# Count the blob labels with this:\n",
    "labelCounter = 1\n",
    "\n",
    "# Loop through the centroids, skipping the background (0):\n",
    "for c in range(1, len(centroids), 1):\n",
    "\n",
    "    # Get the current centroids:\n",
    "    cx = int(centroids[c][0])\n",
    "    cy = int(centroids[c][1])\n",
    "\n",
    "    # Get the pixel value on the groups mask:\n",
    "    pixelValue = groupsMask[cy, cx]\n",
    "\n",
    "    # If new value (255) there's no entry in the dictionary\n",
    "    # Process a new key and value:\n",
    "    if pixelValue == 255:\n",
    "\n",
    "        # New key and values-> Centroid and Point Count:\n",
    "        centroidsDictionary[labelCounter] = (cx, cy, 1)\n",
    "\n",
    "        # Flood fill at centroid:\n",
    "        cv2.floodFill(groupsMask, mask=None, seedPoint=(cx, cy), newVal=labelCounter)\n",
    "        labelCounter += 1\n",
    "\n",
    "    # Else, the label already exists and we must accumulate the\n",
    "    # centroid and its count:\n",
    "    else:\n",
    "\n",
    "        # Get Value:\n",
    "        (accumCx, accumCy, blobCount) = centroidsDictionary[pixelValue]\n",
    "\n",
    "        # Accumulate value:\n",
    "        accumCx = accumCx + cx\n",
    "        accumCy = accumCy + cy\n",
    "        blobCount += 1\n",
    "\n",
    "        # Update dictionary entry:\n",
    "        centroidsDictionary[pixelValue] = (accumCx, accumCy, blobCount)\n",
    "\n",
    "centroids"
   ]
  },
  {
   "cell_type": "code",
   "execution_count": 13,
   "metadata": {},
   "outputs": [],
   "source": [
    "inputImage = img\n",
    "scalePercent = 50  # percent of original size\n",
    "width = int(inputImage.shape[1] * scalePercent / 100)\n",
    "height = int(inputImage.shape[0] * scalePercent / 100)\n",
    "\n",
    "# New dimensions:\n",
    "dim = (width, height)\n",
    "\n",
    "# resize image\n",
    "resizedImage = cv2.resize(inputImage, dim, interpolation=cv2.INTER_AREA)\n",
    "\n",
    "# Color conversion\n",
    "grayscaleImage = cv2.cvtColor(resizedImage, cv2.COLOR_BGR2GRAY)\n",
    "grayscaleImage = 255 - grayscaleImage"
   ]
  },
  {
   "cell_type": "code",
   "execution_count": 14,
   "metadata": {},
   "outputs": [
    {
     "data": {
      "text/plain": [
       "32"
      ]
     },
     "execution_count": 14,
     "metadata": {},
     "output_type": "execute_result"
    }
   ],
   "source": [
    "# Loop trough the dictionary and get the final centroid values:\n",
    "for k in centroidsDictionary:\n",
    "    # Get the value of the current key:\n",
    "    (cx, cy, count) = centroidsDictionary[k]\n",
    "    # Process combined points:\n",
    "    if count != 1:\n",
    "        cx = int(cx/count)\n",
    "        cy = int(cy/count)\n",
    "    # Draw circle at the centroid\n",
    "    cv2.circle(resizedImage, (cx, cy), 5, (0, 0, 255), -1)\n",
    "\n",
    "cv2.imshow(\"Final Centroids\", resizedImage)\n",
    "cv2.waitKey(0)"
   ]
  },
  {
   "cell_type": "code",
   "execution_count": 47,
   "metadata": {},
   "outputs": [
    {
     "name": "stdout",
     "output_type": "stream",
     "text": [
      "0.5647059281667074\n"
     ]
    }
   ],
   "source": [
    "max_val = 0\n",
    "for r in range(len(img_2d)):\n",
    "    for c in range(len(img_2d[r])):\n",
    "        if img_2d[r][c] > max_val:\n",
    "            max_val = img_2d[r][c]\n",
    "print(max_val)"
   ]
  },
  {
   "cell_type": "code",
   "execution_count": 67,
   "metadata": {},
   "outputs": [
    {
     "ename": "error",
     "evalue": "OpenCV(4.6.0) /Users/runner/work/opencv-python/opencv-python/opencv/modules/imgproc/src/canny.cpp:829: error: (-215:Assertion failed) _src.depth() == CV_8U in function 'Canny'\n",
     "output_type": "error",
     "traceback": [
      "\u001b[0;31m---------------------------------------------------------------------------\u001b[0m",
      "\u001b[0;31merror\u001b[0m                                     Traceback (most recent call last)",
      "\u001b[1;32m/Users/rsha256/cal/fa22/EECS106A/fa22/proj/robot_cable_insertion/edge_detect.ipynb Cell 9\u001b[0m in \u001b[0;36m<cell line: 2>\u001b[0;34m()\u001b[0m\n\u001b[1;32m      <a href='vscode-notebook-cell:/Users/rsha256/cal/fa22/EECS106A/fa22/proj/robot_cable_insertion/edge_detect.ipynb#W1sZmlsZQ%3D%3D?line=0'>1</a>\u001b[0m \u001b[39m# Get the edges\u001b[39;00m\n\u001b[0;32m----> <a href='vscode-notebook-cell:/Users/rsha256/cal/fa22/EECS106A/fa22/proj/robot_cable_insertion/edge_detect.ipynb#W1sZmlsZQ%3D%3D?line=1'>2</a>\u001b[0m edges \u001b[39m=\u001b[39m cv2\u001b[39m.\u001b[39;49mCanny(img_2d, \u001b[39m0\u001b[39;49m, \u001b[39m0.5\u001b[39;49m\u001b[39m*\u001b[39;49mmax_val)\n\u001b[1;32m      <a href='vscode-notebook-cell:/Users/rsha256/cal/fa22/EECS106A/fa22/proj/robot_cable_insertion/edge_detect.ipynb#W1sZmlsZQ%3D%3D?line=2'>3</a>\u001b[0m plt\u001b[39m.\u001b[39mimshow(edges, interpolation\u001b[39m=\u001b[39m\u001b[39m\"\u001b[39m\u001b[39mnearest\u001b[39m\u001b[39m\"\u001b[39m)\n",
      "\u001b[0;31merror\u001b[0m: OpenCV(4.6.0) /Users/runner/work/opencv-python/opencv-python/opencv/modules/imgproc/src/canny.cpp:829: error: (-215:Assertion failed) _src.depth() == CV_8U in function 'Canny'\n"
     ]
    }
   ],
   "source": [
    "# Get the edges\n",
    "edges = cv2.Canny(img_2d, 0, 0.5*max_val)\n",
    "plt.imshow(edges, interpolation=\"nearest\")"
   ]
  },
  {
   "cell_type": "code",
   "execution_count": 68,
   "metadata": {},
   "outputs": [],
   "source": [
    "import cv2 as cv\n",
    "\n",
    "input_image = np.array((\n",
    "    [0, 0, 0, 0, 0, 0, 0, 0],\n",
    "    [0, 255, 255, 255, 0, 0, 0, 255],\n",
    "    [0, 255, 255, 255, 0, 0, 0, 0],\n",
    "    [0, 255, 255, 255, 0, 255, 0, 0],\n",
    "    [0, 0, 255, 0, 0, 0, 0, 0],\n",
    "    [0, 0, 255, 0, 0, 255, 255, 0],\n",
    "    [0,255, 0, 255, 0, 0, 255, 0],\n",
    "    [0, 255, 255, 255, 0, 0, 0, 0]), dtype=\"uint8\")\n",
    "kernel = np.array((\n",
    "        [0, 1, 0],\n",
    "        [1, -1, 1],\n",
    "        [0, 1, 0]), dtype=\"int\")\n",
    "output_image = cv.morphologyEx(input_image, cv.MORPH_HITMISS, kernel)\n",
    "rate = 50\n",
    "kernel = (kernel + 1) * 127\n",
    "kernel = np.uint8(kernel)\n",
    "kernel = cv.resize(kernel, None, fx = rate, fy = rate, interpolation = cv.INTER_NEAREST)\n",
    "cv.imshow(\"kernel\", kernel)\n",
    "cv.moveWindow(\"kernel\", 0, 0)\n",
    "input_image = cv.resize(input_image, None, fx = rate, fy = rate, interpolation = cv.INTER_NEAREST)\n",
    "cv.imshow(\"Original\", input_image)\n",
    "cv.moveWindow(\"Original\", 0, 200)\n",
    "output_image = cv.resize(output_image, None , fx = rate, fy = rate, interpolation = cv.INTER_NEAREST)\n",
    "cv.imshow(\"Hit or Miss\", output_image)\n",
    "cv.moveWindow(\"Hit or Miss\", 500, 200)\n",
    "cv.waitKey(0)\n",
    "cv.destroyAllWindows()"
   ]
  },
  {
   "cell_type": "code",
   "execution_count": 65,
   "metadata": {},
   "outputs": [
    {
     "name": "stdout",
     "output_type": "stream",
     "text": [
      "\u001b[33mDEPRECATION: Configuring installation scheme with distutils config files is deprecated and will no longer work in the near future. If you are using a Homebrew or Linuxbrew Python, please see discussion at https://github.com/Homebrew/homebrew-core/issues/76621\u001b[0m\u001b[33m\n",
      "\u001b[0mCollecting opencv-contrib-python\n",
      "  Using cached opencv_contrib_python-4.6.0.66-cp36-abi3-macosx_10_15_x86_64.whl (56.1 MB)\n",
      "Requirement already satisfied: numpy>=1.14.5 in /usr/local/lib/python3.9/site-packages (from opencv-contrib-python) (1.20.0)\n",
      "Installing collected packages: opencv-contrib-python\n",
      "\u001b[33m  DEPRECATION: Configuring installation scheme with distutils config files is deprecated and will no longer work in the near future. If you are using a Homebrew or Linuxbrew Python, please see discussion at https://github.com/Homebrew/homebrew-core/issues/76621\u001b[0m\u001b[33m\n",
      "\u001b[0m\u001b[33mDEPRECATION: Configuring installation scheme with distutils config files is deprecated and will no longer work in the near future. If you are using a Homebrew or Linuxbrew Python, please see discussion at https://github.com/Homebrew/homebrew-core/issues/76621\u001b[0m\u001b[33m\n",
      "\u001b[0mSuccessfully installed opencv-contrib-python-4.6.0.66\n",
      "\n",
      "\u001b[1m[\u001b[0m\u001b[34;49mnotice\u001b[0m\u001b[1;39;49m]\u001b[0m\u001b[39;49m A new release of pip available: \u001b[0m\u001b[31;49m22.3\u001b[0m\u001b[39;49m -> \u001b[0m\u001b[32;49m22.3.1\u001b[0m\n",
      "\u001b[1m[\u001b[0m\u001b[34;49mnotice\u001b[0m\u001b[1;39;49m]\u001b[0m\u001b[39;49m To update, run: \u001b[0m\u001b[32;49mpython3.9 -m pip install --upgrade pip\u001b[0m\n",
      "Requirement already satisfied: opencv-contrib-python in /usr/local/lib/python3.10/site-packages (4.6.0.66)\n",
      "Requirement already satisfied: numpy>=1.17.3 in /usr/local/lib/python3.10/site-packages (from opencv-contrib-python) (1.23.2)\n",
      "\n",
      "\u001b[1m[\u001b[0m\u001b[34;49mnotice\u001b[0m\u001b[1;39;49m]\u001b[0m\u001b[39;49m A new release of pip available: \u001b[0m\u001b[31;49m22.2.2\u001b[0m\u001b[39;49m -> \u001b[0m\u001b[32;49m22.3.1\u001b[0m\n",
      "\u001b[1m[\u001b[0m\u001b[34;49mnotice\u001b[0m\u001b[1;39;49m]\u001b[0m\u001b[39;49m To update, run: \u001b[0m\u001b[32;49mpython3.10 -m pip install --upgrade pip\u001b[0m\n",
      "Note: you may need to restart the kernel to use updated packages.\n"
     ]
    },
    {
     "ename": "ModuleNotFoundError",
     "evalue": "No module named 'cv2.ximgproc'",
     "output_type": "error",
     "traceback": [
      "\u001b[0;31m---------------------------------------------------------------------------\u001b[0m",
      "\u001b[0;31mModuleNotFoundError\u001b[0m                       Traceback (most recent call last)",
      "\u001b[1;32m/Users/rsha256/cal/fa22/EECS106A/fa22/proj/robot_cable_insertion/edge_detect.ipynb Cell 11\u001b[0m in \u001b[0;36m<cell line: 3>\u001b[0;34m()\u001b[0m\n\u001b[1;32m      <a href='vscode-notebook-cell:/Users/rsha256/cal/fa22/EECS106A/fa22/proj/robot_cable_insertion/edge_detect.ipynb#W2sZmlsZQ%3D%3D?line=0'>1</a>\u001b[0m get_ipython()\u001b[39m.\u001b[39msystem(\u001b[39m'\u001b[39m\u001b[39mpip install opencv-contrib-python\u001b[39m\u001b[39m'\u001b[39m)\n\u001b[1;32m      <a href='vscode-notebook-cell:/Users/rsha256/cal/fa22/EECS106A/fa22/proj/robot_cable_insertion/edge_detect.ipynb#W2sZmlsZQ%3D%3D?line=1'>2</a>\u001b[0m get_ipython()\u001b[39m.\u001b[39mrun_line_magic(\u001b[39m'\u001b[39m\u001b[39mpip\u001b[39m\u001b[39m'\u001b[39m, \u001b[39m'\u001b[39m\u001b[39minstall opencv-contrib-python\u001b[39m\u001b[39m'\u001b[39m)\n\u001b[0;32m----> <a href='vscode-notebook-cell:/Users/rsha256/cal/fa22/EECS106A/fa22/proj/robot_cable_insertion/edge_detect.ipynb#W2sZmlsZQ%3D%3D?line=2'>3</a>\u001b[0m \u001b[39mfrom\u001b[39;00m \u001b[39mcv2\u001b[39;00m\u001b[39m.\u001b[39;00m\u001b[39mximgproc\u001b[39;00m \u001b[39mimport\u001b[39;00m guidedFilter\n",
      "\u001b[0;31mModuleNotFoundError\u001b[0m: No module named 'cv2.ximgproc'"
     ]
    }
   ],
   "source": []
  },
  {
   "cell_type": "code",
   "execution_count": 66,
   "metadata": {},
   "outputs": [
    {
     "data": {
      "text/plain": [
       "'4.6.0'"
      ]
     },
     "execution_count": 66,
     "metadata": {},
     "output_type": "execute_result"
    }
   ],
   "source": []
  },
  {
   "cell_type": "code",
   "execution_count": null,
   "metadata": {},
   "outputs": [],
   "source": []
  }
 ],
 "metadata": {
  "kernelspec": {
   "display_name": "Python 3.10.6 64-bit",
   "language": "python",
   "name": "python3"
  },
  "language_info": {
   "codemirror_mode": {
    "name": "ipython",
    "version": 3
   },
   "file_extension": ".py",
   "mimetype": "text/x-python",
   "name": "python",
   "nbconvert_exporter": "python",
   "pygments_lexer": "ipython3",
   "version": "3.10.6"
  },
  "orig_nbformat": 4,
  "vscode": {
   "interpreter": {
    "hash": "aee8b7b246df8f9039afb4144a1f6fd8d2ca17a180786b69acc140d282b71a49"
   }
  }
 },
 "nbformat": 4,
 "nbformat_minor": 2
}
