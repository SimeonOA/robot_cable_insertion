{
 "cells": [
  {
   "cell_type": "code",
   "execution_count": 18,
   "metadata": {},
   "outputs": [],
   "source": [
    "# TRYING TO MAKE CALIBRATIONS WORK FROM SCRATCH\n",
    "\n",
    "import numpy as np\n",
    "import pandas as pd\n",
    "from sklearn.model_selection import train_test_split\n",
    "#X_train, X_test, y_train, y_test = train_test_split(X, y, test_size = 0.2)\n",
    "from sklearn.linear_model import LinearRegression\n",
    "regressor = LinearRegression()"
   ]
  },
  {
   "cell_type": "code",
   "execution_count": 36,
   "metadata": {},
   "outputs": [],
   "source": [
    "path_to_file = '/home/simeonoa/robot_cable_insertion/ur5/calibration/cam_cal_12_05_23_final.csv'\n",
    "df = pd.read_csv(path_to_file)"
   ]
  },
  {
   "cell_type": "code",
   "execution_count": 37,
   "metadata": {},
   "outputs": [
    {
     "name": "stdout",
     "output_type": "stream",
     "text": [
      "    real_x  real_y   im_x   im_y\n",
      "0     21.8  -712.5  150.9   65.0\n",
      "1     63.0  -667.0  118.1  100.1\n",
      "2   -117.6  -673.6  260.9   92.4\n",
      "3   -270.9  -674.7  382.6   91.5\n",
      "4   -448.2  -672.0  523.6   91.1\n",
      "5    106.4  -616.7   85.8  139.1\n",
      "6    -21.6  -572.7  184.1  171.9\n",
      "7   -203.7  -572.3  331.0  172.4\n",
      "8   -277.5  -569.3  389.8  173.3\n",
      "9   -367.6  -575.7  460.7  170.6\n",
      "10    52.3  -473.5  127.5  253.2\n",
      "11  -118.8  -475.9  263.2  249.6\n",
      "12  -199.6  -480.6  327.8  246.4\n",
      "13  -280.6  -485.7  392.5  241.5\n",
      "14  -446.1  -480.2  524.0  244.2\n",
      "15   -26.1  -400.5  189.5  312.0\n",
      "16  -114.0  -399.7  260.0  312.0\n",
      "17  -208.1  -401.3  335.4  309.3\n",
      "18  -367.3  -392.0  463.0  315.1\n",
      "19    54.4  -322.2  126.6  373.5\n",
      "20  -120.3  -322.2  265.4  374.0\n",
      "21  -274.7  -311.0  389.3  383.0\n",
      "22  -447.1  -312.0  527.6  380.7\n"
     ]
    }
   ],
   "source": [
    "print(df)"
   ]
  },
  {
   "cell_type": "code",
   "execution_count": 38,
   "metadata": {},
   "outputs": [
    {
     "data": {
      "text/html": [
       "<div>\n",
       "<style scoped>\n",
       "    .dataframe tbody tr th:only-of-type {\n",
       "        vertical-align: middle;\n",
       "    }\n",
       "\n",
       "    .dataframe tbody tr th {\n",
       "        vertical-align: top;\n",
       "    }\n",
       "\n",
       "    .dataframe thead th {\n",
       "        text-align: right;\n",
       "    }\n",
       "</style>\n",
       "<table border=\"1\" class=\"dataframe\">\n",
       "  <thead>\n",
       "    <tr style=\"text-align: right;\">\n",
       "      <th></th>\n",
       "      <th>real_x</th>\n",
       "      <th>real_y</th>\n",
       "      <th>im_x</th>\n",
       "      <th>im_y</th>\n",
       "    </tr>\n",
       "  </thead>\n",
       "  <tbody>\n",
       "    <tr>\n",
       "      <th>0</th>\n",
       "      <td>21.8</td>\n",
       "      <td>-712.5</td>\n",
       "      <td>150.9</td>\n",
       "      <td>65.0</td>\n",
       "    </tr>\n",
       "    <tr>\n",
       "      <th>1</th>\n",
       "      <td>63.0</td>\n",
       "      <td>-667.0</td>\n",
       "      <td>118.1</td>\n",
       "      <td>100.1</td>\n",
       "    </tr>\n",
       "    <tr>\n",
       "      <th>2</th>\n",
       "      <td>-117.6</td>\n",
       "      <td>-673.6</td>\n",
       "      <td>260.9</td>\n",
       "      <td>92.4</td>\n",
       "    </tr>\n",
       "    <tr>\n",
       "      <th>3</th>\n",
       "      <td>-270.9</td>\n",
       "      <td>-674.7</td>\n",
       "      <td>382.6</td>\n",
       "      <td>91.5</td>\n",
       "    </tr>\n",
       "    <tr>\n",
       "      <th>4</th>\n",
       "      <td>-448.2</td>\n",
       "      <td>-672.0</td>\n",
       "      <td>523.6</td>\n",
       "      <td>91.1</td>\n",
       "    </tr>\n",
       "  </tbody>\n",
       "</table>\n",
       "</div>"
      ],
      "text/plain": [
       "   real_x  real_y   im_x   im_y\n",
       "0    21.8  -712.5  150.9   65.0\n",
       "1    63.0  -667.0  118.1  100.1\n",
       "2  -117.6  -673.6  260.9   92.4\n",
       "3  -270.9  -674.7  382.6   91.5\n",
       "4  -448.2  -672.0  523.6   91.1"
      ]
     },
     "execution_count": 38,
     "metadata": {},
     "output_type": "execute_result"
    }
   ],
   "source": [
    "df.head() "
   ]
  },
  {
   "cell_type": "code",
   "execution_count": 39,
   "metadata": {},
   "outputs": [
    {
     "name": "stdout",
     "output_type": "stream",
     "text": [
      "          real_x    real_y      im_x      im_y\n",
      "real_x  1.000000 -0.139858 -0.999959 -0.129118\n",
      "real_y -0.139858  1.000000  0.146494  0.999885\n",
      "im_x   -0.999959  0.146494  1.000000  0.135778\n",
      "im_y   -0.129118  0.999885  0.135778  1.000000\n"
     ]
    }
   ],
   "source": [
    "print(df.corr())"
   ]
  },
  {
   "cell_type": "code",
   "execution_count": 47,
   "metadata": {},
   "outputs": [
    {
     "name": "stdout",
     "output_type": "stream",
     "text": [
      "[[150.9]\n",
      " [118.1]\n",
      " [260.9]\n",
      " [382.6]\n",
      " [523.6]\n",
      " [ 85.8]\n",
      " [184.1]\n",
      " [331. ]\n",
      " [389.8]\n",
      " [460.7]\n",
      " [127.5]\n",
      " [263.2]\n",
      " [327.8]\n",
      " [392.5]\n",
      " [524. ]\n",
      " [189.5]\n",
      " [260. ]\n",
      " [335.4]\n",
      " [463. ]\n",
      " [126.6]\n",
      " [265.4]\n",
      " [389.3]\n",
      " [527.6]]\n"
     ]
    }
   ],
   "source": [
    "X_in = df['im_x'].values.reshape(-1, 1)\n",
    "X_out = df['real_x'].values.reshape(-1, 1)\n",
    "Y_in = df['im_y'].values.reshape(-1, 1)\n",
    "Y_out = df['real_y'].values.reshape(-1, 1)"
   ]
  },
  {
   "cell_type": "code",
   "execution_count": null,
   "metadata": {},
   "outputs": [],
   "source": [
    "im_coords = np.column_stack((X_in, Y_in))\n",
    "print(im_coords.shape)\n",
    "model_x = LinearRegression()\n",
    "model_y = LinearRegression()\n",
    "model_x.fit(im_coords, X_out)\n",
    "model_y.fit(im_coords, Y_out)\n"
   ]
  },
  {
   "cell_type": "code",
   "execution_count": null,
   "metadata": {},
   "outputs": [],
   "source": [
    "new_im_coords = np.array([[269.4, 184]])\n",
    "pred_real_x = model_x.predict(new_im_coords)\n",
    "pred_real_y = model_y.predict(new_im_coords)\n",
    "print(pred_real_x, pred_real_y)"
   ]
  },
  {
   "cell_type": "code",
   "execution_count": 41,
   "metadata": {},
   "outputs": [],
   "source": [
    "X_in_train, X_in_test, X_out_train, X_out_test = train_test_split(X_in, X_out, test_size = 0.2)\n",
    "Y_in_train, Y_in_test, Y_out_train, Y_out_test = train_test_split(Y_in, Y_out, test_size = 0.2)"
   ]
  },
  {
   "cell_type": "code",
   "execution_count": 42,
   "metadata": {},
   "outputs": [],
   "source": [
    "X_result = regressor.fit(X_in_train, X_out_train)\n",
    "Y_result = regressor.fit(Y_in_train, Y_out_train)\n",
    "X_what = X_result"
   ]
  },
  {
   "cell_type": "code",
   "execution_count": 43,
   "metadata": {},
   "outputs": [
    {
     "name": "stdout",
     "output_type": "stream",
     "text": [
      "[-790.18521147]\n",
      "[[1.25530511]]\n"
     ]
    }
   ],
   "source": [
    "print(regressor.intercept_)\n",
    "print(regressor.coef_)"
   ]
  },
  {
   "cell_type": "code",
   "execution_count": 44,
   "metadata": {},
   "outputs": [
    {
     "name": "stdout",
     "output_type": "stream",
     "text": [
      "-790.1852114691509\n",
      "1.2553051144953224\n",
      "-790.1852114691509\n",
      "1.2553051144953224\n"
     ]
    }
   ],
   "source": [
    "print(X_what.intercept_[0])\n",
    "print(X_what.coef_[0][0])\n",
    "print(Y_result.intercept_[0])\n",
    "print(Y_result.coef_[0][0])"
   ]
  },
  {
   "cell_type": "code",
   "execution_count": 45,
   "metadata": {},
   "outputs": [],
   "source": [
    "Y_diffs = Y_out - (Y_result.intercept_[0] + Y_result.coef_[0][0] * Y_in)\n",
    "y_est = Y_result.intercept_[0] + Y_result.coef_[0][0] * 184\n",
    "x_est = X_result.intercept_[0] + X_result.coef_[0][0] * 269.4"
   ]
  },
  {
   "cell_type": "code",
   "execution_count": 46,
   "metadata": {},
   "outputs": [
    {
     "name": "stdout",
     "output_type": "stream",
     "text": [
      "[[-3.90962097]\n",
      " [-2.47083049]\n",
      " [ 0.59501889]\n",
      " [ 0.62479349]\n",
      " [ 3.82691554]\n",
      " [-1.12772996]\n",
      " [ 1.69826229]\n",
      " [ 1.47060973]\n",
      " [ 3.34083513]\n",
      " [ 0.33015894]\n",
      " [-1.15804352]\n",
      " [ 0.96105489]\n",
      " [ 0.27803126]\n",
      " [ 1.32902632]\n",
      " [ 3.43970251]\n",
      " [-1.96998425]\n",
      " [-1.16998425]\n",
      " [ 0.61933956]\n",
      " [ 2.63856989]\n",
      " [-0.87124879]\n",
      " [-1.49890135]\n",
      " [-1.59664738]\n",
      " [ 0.29055438]]\n",
      "-452.00601362411106 -559.2090704020115\n"
     ]
    }
   ],
   "source": [
    "print(Y_diffs)\n",
    "print(x_est, y_est)"
   ]
  },
  {
   "cell_type": "code",
   "execution_count": null,
   "metadata": {},
   "outputs": [],
   "source": []
  }
 ],
 "metadata": {
  "kernelspec": {
   "display_name": "Python 3 (ipykernel)",
   "language": "python",
   "name": "python3"
  },
  "language_info": {
   "codemirror_mode": {
    "name": "ipython",
    "version": 3
   },
   "file_extension": ".py",
   "mimetype": "text/x-python",
   "name": "python",
   "nbconvert_exporter": "python",
   "pygments_lexer": "ipython3",
   "version": "3.9.18"
  }
 },
 "nbformat": 4,
 "nbformat_minor": 2
}
