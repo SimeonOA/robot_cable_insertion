{
 "cells": [
  {
   "cell_type": "code",
   "execution_count": 11,
   "metadata": {},
   "outputs": [],
   "source": [
    "# TRYING TO MAKE CALIBRATIONS WORK FROM SCRATCH\n",
    "\n",
    "import numpy as np\n",
    "import pandas as pd\n",
    "from sklearn.model_selection import train_test_split\n",
    "#X_train, X_test, y_train, y_test = train_test_split(X, y, test_size = 0.2)\n",
    "from sklearn.linear_model import LinearRegression\n",
    "regressor = LinearRegression()"
   ]
  },
  {
   "cell_type": "code",
   "execution_count": 2,
   "metadata": {},
   "outputs": [],
   "source": [
    "path_to_file = './cam_cal_09_11_23.csv'\n",
    "df = pd.read_csv(path_to_file)"
   ]
  },
  {
   "cell_type": "code",
   "execution_count": 4,
   "metadata": {},
   "outputs": [
    {
     "name": "stdout",
     "output_type": "stream",
     "text": [
      "    real_x  real_y  im_x  im_y\n",
      "0     21.8  -712.5    62    23\n",
      "1     63.0  -667.0    43    45\n",
      "2   -117.6  -673.6   130    41\n",
      "3   -270.9  -674.7   203    39\n",
      "4   -448.2  -672.0   288    39\n",
      "5    106.4  -616.7    23    69\n",
      "6    -21.6  -572.7    83    88\n",
      "7   -203.7  -572.3   171    88\n",
      "8   -277.5  -569.3   207    89\n",
      "9   -367.6  -575.7   250    87\n",
      "10    52.3  -473.5    49   138\n",
      "11  -118.8  -475.9   131   136\n",
      "12  -199.6  -480.6   170   134\n",
      "13  -280.6  -485.7   209   131\n",
      "14  -446.1  -480.2   289   132\n",
      "15   -26.1  -400.5    87   173\n",
      "16  -114.0  -399.7   129   173\n",
      "17  -208.1  -401.3   174   172\n",
      "18  -367.3  -392.0   252   175\n",
      "19    54.4  -322.2    49   211\n",
      "20  -120.3  -322.2   132   210\n",
      "21  -274.7  -311.0   208   213\n",
      "22  -447.1  -312.0   291   215\n"
     ]
    }
   ],
   "source": [
    "print(df)"
   ]
  },
  {
   "cell_type": "code",
   "execution_count": 5,
   "metadata": {},
   "outputs": [
    {
     "data": {
      "text/html": [
       "<div>\n",
       "<style scoped>\n",
       "    .dataframe tbody tr th:only-of-type {\n",
       "        vertical-align: middle;\n",
       "    }\n",
       "\n",
       "    .dataframe tbody tr th {\n",
       "        vertical-align: top;\n",
       "    }\n",
       "\n",
       "    .dataframe thead th {\n",
       "        text-align: right;\n",
       "    }\n",
       "</style>\n",
       "<table border=\"1\" class=\"dataframe\">\n",
       "  <thead>\n",
       "    <tr style=\"text-align: right;\">\n",
       "      <th></th>\n",
       "      <th>real_x</th>\n",
       "      <th>real_y</th>\n",
       "      <th>im_x</th>\n",
       "      <th>im_y</th>\n",
       "    </tr>\n",
       "  </thead>\n",
       "  <tbody>\n",
       "    <tr>\n",
       "      <th>0</th>\n",
       "      <td>21.8</td>\n",
       "      <td>-712.5</td>\n",
       "      <td>62</td>\n",
       "      <td>23</td>\n",
       "    </tr>\n",
       "    <tr>\n",
       "      <th>1</th>\n",
       "      <td>63.0</td>\n",
       "      <td>-667.0</td>\n",
       "      <td>43</td>\n",
       "      <td>45</td>\n",
       "    </tr>\n",
       "    <tr>\n",
       "      <th>2</th>\n",
       "      <td>-117.6</td>\n",
       "      <td>-673.6</td>\n",
       "      <td>130</td>\n",
       "      <td>41</td>\n",
       "    </tr>\n",
       "    <tr>\n",
       "      <th>3</th>\n",
       "      <td>-270.9</td>\n",
       "      <td>-674.7</td>\n",
       "      <td>203</td>\n",
       "      <td>39</td>\n",
       "    </tr>\n",
       "    <tr>\n",
       "      <th>4</th>\n",
       "      <td>-448.2</td>\n",
       "      <td>-672.0</td>\n",
       "      <td>288</td>\n",
       "      <td>39</td>\n",
       "    </tr>\n",
       "  </tbody>\n",
       "</table>\n",
       "</div>"
      ],
      "text/plain": [
       "   real_x  real_y  im_x  im_y\n",
       "0    21.8  -712.5    62    23\n",
       "1    63.0  -667.0    43    45\n",
       "2  -117.6  -673.6   130    41\n",
       "3  -270.9  -674.7   203    39\n",
       "4  -448.2  -672.0   288    39"
      ]
     },
     "execution_count": 5,
     "metadata": {},
     "output_type": "execute_result"
    }
   ],
   "source": [
    "df.head() "
   ]
  },
  {
   "cell_type": "code",
   "execution_count": 6,
   "metadata": {},
   "outputs": [
    {
     "name": "stdout",
     "output_type": "stream",
     "text": [
      "          real_x    real_y      im_x      im_y\n",
      "real_x  1.000000 -0.139858 -0.999932 -0.126138\n",
      "real_y -0.139858  1.000000  0.149609  0.999829\n",
      "im_x   -0.999932  0.149609  1.000000  0.135923\n",
      "im_y   -0.126138  0.999829  0.135923  1.000000\n"
     ]
    }
   ],
   "source": [
    "print(df.corr())"
   ]
  },
  {
   "cell_type": "code",
   "execution_count": 32,
   "metadata": {},
   "outputs": [],
   "source": [
    "X_in = df['im_x'].values.reshape(-1, 1)\n",
    "X_out = df['real_x'].values.reshape(-1, 1)\n",
    "Y_in = df['im_y'].values.reshape(-1, 1)\n",
    "Y_out = df['real_y'].values.reshape(-1, 1)"
   ]
  },
  {
   "cell_type": "code",
   "execution_count": 33,
   "metadata": {},
   "outputs": [],
   "source": [
    "X_in_train, X_in_test, X_out_train, X_out_test = train_test_split(X_in, X_out, test_size = 0.2)\n",
    "Y_in_train, Y_in_test, Y_out_train, Y_out_test = train_test_split(Y_in, Y_out, test_size = 0.2)"
   ]
  },
  {
   "cell_type": "code",
   "execution_count": 37,
   "metadata": {},
   "outputs": [],
   "source": [
    "X_result = regressor.fit(X_in_train, X_out_train)\n",
    "Y_result = regressor.fit(Y_in_train, Y_out_train)\n",
    "X_what = X_result"
   ]
  },
  {
   "cell_type": "code",
   "execution_count": 35,
   "metadata": {},
   "outputs": [
    {
     "name": "stdout",
     "output_type": "stream",
     "text": [
      "[-756.91629417]\n",
      "[[2.07055079]]\n"
     ]
    }
   ],
   "source": [
    "print(regressor.intercept_)\n",
    "print(regressor.coef_)"
   ]
  },
  {
   "cell_type": "code",
   "execution_count": 38,
   "metadata": {},
   "outputs": [
    {
     "name": "stdout",
     "output_type": "stream",
     "text": [
      "-756.9162941731292\n",
      "2.0705507857345014\n",
      "-756.9162941731292\n",
      "2.0705507857345014\n"
     ]
    }
   ],
   "source": [
    "print(X_what.intercept_[0])\n",
    "print(X_what.coef_[0][0])\n",
    "print(Y_result.intercept_[0])\n",
    "print(Y_result.coef_[0][0])"
   ]
  },
  {
   "cell_type": "code",
   "execution_count": 39,
   "metadata": {},
   "outputs": [],
   "source": [
    "Y_diffs = Y_out - (Y_result.intercept_[0] + Y_result.coef_[0][0] * Y_in)"
   ]
  },
  {
   "cell_type": "code",
   "execution_count": 40,
   "metadata": {},
   "outputs": [
    {
     "name": "stdout",
     "output_type": "stream",
     "text": [
      "[[-3.2063739 ]\n",
      " [-3.25849118]\n",
      " [-1.57628804]\n",
      " [ 1.46481353]\n",
      " [ 4.16481353]\n",
      " [-2.65171004]\n",
      " [ 2.00782503]\n",
      " [ 2.40782503]\n",
      " [ 3.33727424]\n",
      " [ 1.07837581]\n",
      " [-2.31971426]\n",
      " [-0.57861269]\n",
      " [-1.13751112]\n",
      " [-0.02585876]\n",
      " [ 3.40359046]\n",
      " [-1.78899176]\n",
      " [-0.98899176]\n",
      " [-0.51844097]\n",
      " [ 2.56990667]\n",
      " [-2.16992162]\n",
      " [-0.09937083]\n",
      " [ 4.88897681]\n",
      " [-0.25212476]]\n"
     ]
    }
   ],
   "source": [
    "print(Y_diffs)"
   ]
  },
  {
   "cell_type": "code",
   "execution_count": null,
   "metadata": {},
   "outputs": [],
   "source": []
  }
 ],
 "metadata": {
  "kernelspec": {
   "display_name": "Python 3 (ipykernel)",
   "language": "python",
   "name": "python3"
  },
  "language_info": {
   "codemirror_mode": {
    "name": "ipython",
    "version": 3
   },
   "file_extension": ".py",
   "mimetype": "text/x-python",
   "name": "python",
   "nbconvert_exporter": "python",
   "pygments_lexer": "ipython3",
   "version": "3.11.4"
  }
 },
 "nbformat": 4,
 "nbformat_minor": 2
}
